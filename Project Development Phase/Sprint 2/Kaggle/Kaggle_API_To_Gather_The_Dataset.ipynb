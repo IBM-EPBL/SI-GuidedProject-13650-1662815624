{
  "cells": [
    {
      "cell_type": "code",
      "execution_count": 23,
      "metadata": {
        "id": "xhPjTO6_4J54"
      },
      "outputs": [],
      "source": [
        "!pip install -q kaggle"
      ]
    },
    {
      "cell_type": "code",
      "execution_count": 25,
      "metadata": {
        "id": "E5h7GXbx4Kxq",
        "colab": {
          "base_uri": "https://localhost:8080/"
        },
        "outputId": "8096ff82-33ca-429f-cca9-9454a67e0b4f"
      },
      "outputs": [
        {
          "output_type": "stream",
          "name": "stdout",
          "text": [
            "mkdir: cannot create directory ‘/root/.kaggle’: File exists\n"
          ]
        }
      ],
      "source": [
        "!mkdir ~/.kaggle # creating a kaggle directory"
      ]
    },
    {
      "cell_type": "code",
      "execution_count": 26,
      "metadata": {
        "id": "cKivbil04PAL"
      },
      "outputs": [],
      "source": [
        "!cp kaggle.json ~/.kaggle/  # copying json file to folder"
      ]
    },
    {
      "cell_type": "code",
      "source": [
        "pwd"
      ],
      "metadata": {
        "colab": {
          "base_uri": "https://localhost:8080/",
          "height": 36
        },
        "id": "jdBAXQVedJ-t",
        "outputId": "31d9a866-68f5-4c4b-91c2-93f885e602c5"
      },
      "execution_count": 27,
      "outputs": [
        {
          "output_type": "execute_result",
          "data": {
            "text/plain": [
              "'/content'"
            ],
            "application/vnd.google.colaboratory.intrinsic+json": {
              "type": "string"
            }
          },
          "metadata": {},
          "execution_count": 27
        }
      ]
    },
    {
      "cell_type": "code",
      "execution_count": 28,
      "metadata": {
        "id": "w-BesR6s4auP"
      },
      "outputs": [],
      "source": [
        "!chmod 600 ~/.kaggle/kaggle.json  # changing the permissions to json"
      ]
    },
    {
      "cell_type": "code",
      "execution_count": 30,
      "metadata": {
        "colab": {
          "base_uri": "https://localhost:8080/"
        },
        "id": "BiwcWcLA4e-N",
        "outputId": "fbedda44-df0e-46d3-c01f-4f56f93012f6"
      },
      "outputs": [
        {
          "output_type": "stream",
          "name": "stdout",
          "text": [
            "Downloading analytics-for-hospital-health-care.zip to /content\n",
            "\r  0% 0.00/6.54M [00:00<?, ?B/s]\n",
            "\r100% 6.54M/6.54M [00:00<00:00, 143MB/s]\n"
          ]
        }
      ],
      "source": [
        "!kaggle datasets download -d sivasamyeswaran/analytics-for-hospital-health-care"
      ]
    },
    {
      "cell_type": "code",
      "execution_count": 31,
      "metadata": {
        "colab": {
          "base_uri": "https://localhost:8080/"
        },
        "id": "DEMUh9Er4mHb",
        "outputId": "642d4ff7-5090-46ce-cc8f-487a5b7d1a83"
      },
      "outputs": [
        {
          "output_type": "stream",
          "name": "stdout",
          "text": [
            "Archive:  /content/analytics-for-hospital-health-care.zip\n",
            "  inflating: sample_sub.csv          \n",
            "  inflating: test_data.csv           \n",
            "  inflating: train_data.csv          \n",
            "  inflating: train_data_dictionary.csv  \n"
          ]
        }
      ],
      "source": [
        "!unzip /content/analytics-for-hospital-health-care.zip"
      ]
    }
  ],
  "metadata": {
    "colab": {
      "provenance": [],
      "collapsed_sections": []
    },
    "kernelspec": {
      "display_name": "Python 3 (ipykernel)",
      "language": "python",
      "name": "python3"
    },
    "language_info": {
      "codemirror_mode": {
        "name": "ipython",
        "version": 3
      },
      "file_extension": ".py",
      "mimetype": "text/x-python",
      "name": "python",
      "nbconvert_exporter": "python",
      "pygments_lexer": "ipython3",
      "version": "3.9.12"
    }
  },
  "nbformat": 4,
  "nbformat_minor": 0
}